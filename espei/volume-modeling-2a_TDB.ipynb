{
 "cells": [
  {
   "cell_type": "code",
   "execution_count": 1,
   "metadata": {},
   "outputs": [],
   "source": [
    "from typing import Any, List, Optional\n",
    "from dataclasses import dataclass\n",
    "import itertools\n",
    "from numpy.typing import ArrayLike\n",
    "import numpy as np\n",
    "import symengine\n",
    "from pycalphad import Model\n",
    "from espei.paramselect import _build_feature_matrix\n",
    "from espei.parameter_selection.model_building import make_successive, build_redlich_kister_candidate_models\n",
    "from espei.paramselect import *\n",
    "import matplotlib.pyplot as plt\n",
    "import numpy as np\n",
    "from symengine import lambdify\n",
    "from pycalphad import Database, Model, variables as v\n",
    "\n",
    "\n",
    "Dataset = Dict[str, Any]  # Typing stub\n",
    "\n",
    "from espei.parameter_selection.utils import build_sitefractions, feature_transforms, shift_reference_state\n",
    "class FittingStep():\n",
    "    parameter_name: str\n",
    "    data_types_read: List[str]\n",
    "    features: List[symengine.Expr]\n",
    "    supported_reference_states: List[str]\n",
    "\n",
    "    @staticmethod\n",
    "    def transform_data(d: ArrayLike, model: Optional[Model] = None) -> ArrayLike:  # data may be muddied with symbols from Model\n",
    "        return d\n",
    "\n",
    "    @staticmethod\n",
    "    def transform_feature(f: symengine.Expr, model: Optional[Model] = None) -> symengine.Expr:\n",
    "        return f\n",
    "\n",
    "    @classmethod\n",
    "    def get_feature_sets(cls):\n",
    "        return make_successive(cls.features)\n",
    "\n",
    "    # modification of espei.parameter_selection.utils.get_data_quantities\n",
    "    # this modified version changes how we access the property of the fixed model to subtract out that contribution\n",
    "    # TODO: rename, maybe get_regression_rhs (and build_feature_matrix => get_regression_matrix)\n",
    "    # TODO: default implementation? maybe raises, maybe check Gibbs subclass\n",
    "    @classmethod\n",
    "    def get_data_quantities(cls, desired_property, fixed_model, fixed_portions, data, sample_condition_dicts):\n",
    "        \"\"\"\n",
    "        Parameters\n",
    "        ----------\n",
    "        desired_property : str\n",
    "            String property corresponding to the features that could be fit, e.g. HM, SM_FORM, CPM_MIX\n",
    "        fixed_model : pycalphad.Model\n",
    "            Model with all lower order (in composition) terms already fit. Pure\n",
    "            element reference state (GHSER functions) should be set to zero.\n",
    "        fixed_portions : List[symengine.Basic]\n",
    "            SymEngine expressions for model parameters and interaction productions for\n",
    "            higher order (in T) terms for this property, e.g. [0, 3.0*YS*v.T]. In\n",
    "            [qty]/mole-formula.\n",
    "        data : List[Dict[str, Any]]\n",
    "            ESPEI single phase datasets for this property.\n",
    "\n",
    "        Returns\n",
    "        -------\n",
    "        np.ndarray[:]\n",
    "            Ravelled data quantities in [qty]/mole-formula\n",
    "\n",
    "        Notes\n",
    "        -----\n",
    "        pycalphad Model parameters (and therefore fixed_portions) are stored as per\n",
    "        mole-formula quantites, but the calculated properties and our data are all\n",
    "        in [qty]/mole-atoms. We multiply by mole-atoms/mole-formula to convert the\n",
    "        units to [qty]/mole-formula.\n",
    "\n",
    "        \"\"\"\n",
    "        mole_atoms_per_mole_formula_unit = fixed_model._site_ratio_normalization\n",
    "        # Define site fraction symbols that will be reused\n",
    "        YS = Symbol('YS')\n",
    "        Z = Symbol('Z')\n",
    "        V_I, V_J, V_K = Symbol('V_I'), Symbol('V_J'), Symbol('V_K')\n",
    "        phase_name = fixed_model.phase_name\n",
    "\n",
    "        # Construct flattened list of site fractions corresponding to the ravelled data (from shift_reference_state)\n",
    "        site_fractions = []\n",
    "        for ds in data:\n",
    "            for _ in ds['conditions']['T']:\n",
    "                sf = build_sitefractions(phase_name, ds['solver']['sublattice_configurations'], ds['solver'].get('sublattice_occupancies', np.ones((len(ds['solver']['sublattice_configurations']), len(ds['solver']['sublattice_configurations'][0])), dtype=np.float_)))\n",
    "                site_fractions.append(sf)\n",
    "        site_fractions = list(itertools.chain(*site_fractions))\n",
    "\n",
    "        if desired_property in feature_transforms:\n",
    "            feat_transform = feature_transforms[desired_property]\n",
    "        elif desired_property.startswith(\"V0\"):\n",
    "            feat_transform = lambda x: x  # TODO: hack because V0 should be V0 subtracted out\n",
    "        else:\n",
    "            feat_transform = lambda x: 0  # TODO: hack because VA shouldn't subtract out V0 contributions from model\n",
    "        # print(\"data_qtys 1\", data)\n",
    "        data_qtys = np.concatenate(shift_reference_state(data, feat_transform, fixed_model, mole_atoms_per_mole_formula_unit), axis=-1)\n",
    "        # print(\"data_qtys 2\", data_qtys)\n",
    "        # Remove existing partial model contributions from the data, convert to per mole-formula units\n",
    "        # TODO: assumption of Gibbs energy fitting here - assumes that we're always fitting against the existing ast/GM.\n",
    "        data_qtys = data_qtys - feat_transform(getattr(fixed_model, desired_property))*mole_atoms_per_mole_formula_unit\n",
    "        # print(\"data_qtys 3\", data_qtys)\n",
    "        # Subtract out high-order (in T) parameters we've already fit, already in per mole-formula units\n",
    "        data_qtys = data_qtys - feat_transform(sum(fixed_portions))\n",
    "        # print(\"data_qtys 4\", data_qtys)\n",
    "        # if any site fractions show up in our data_qtys that aren't in this datasets site fractions, set them to zero.\n",
    "        for sf, i, cond_dict in zip(site_fractions, data_qtys, sample_condition_dicts):\n",
    "            missing_variables = symengine.S(i).atoms(v.SiteFraction) - set(sf.keys())\n",
    "            # print(\"missing vars\", missing_variables)\n",
    "            sf.update({x: 0. for x in missing_variables})\n",
    "            # The equations we have just have the site fractions as YS\n",
    "            # and interaction products as Z, so take the product of all\n",
    "            # the site fractions that we see in our data qtys\n",
    "            sf.update(cond_dict)\n",
    "        # print(\"data_qtys 5\", data_qtys)\n",
    "        data_qtys = [symengine.S(i).xreplace(sf).evalf() for i, sf in zip(data_qtys, site_fractions)]\n",
    "        # print(\"data_qtys 6\", data_qtys)\n",
    "        data_qtys = np.asarray(data_qtys, dtype=np.float_)\n",
    "        # print(\"data_qtys 7\", data_qtys)\n",
    "\n",
    "        # Not in the orig function, added later. Might need to change for more advanced data model\n",
    "        data_quantities = cls.transform_data(data_qtys, fixed_model)\n",
    "        # one last sweep through subs sample_condition_dicts because our transform from the fixed model may have re-introduced symbols\n",
    "        # print(\"data_quantities\", data_quantities)\n",
    "        # unforunately we need to handle the case that data quanities didn't get made into a symbolic form\n",
    "        data_quantities = np.asarray([(dq.subs(scd) if not isinstance(dq, float) else dq) for dq, scd in zip(data_quantities, sample_condition_dicts)], dtype=np.object_)\n",
    "        # print(\"data_quantities x\", data_quantities)\n",
    "        return data_quantities\n",
    "\n",
    "class ModelFittingDescription():\n",
    "    def __init__(self, *fitting_steps) -> None:\n",
    "        self.fitting_steps = fitting_steps\n",
    "\n",
    "\n",
    "class StepV0(FittingStep):\n",
    "    parameter_name = \"V0\"\n",
    "    data_types_read = [\"V0\"]\n",
    "    features = [symengine.S.One]\n",
    "    supported_reference_states = [\"\"]  # TODO: add mixing support\n",
    "\n",
    "    # TODO: modify to only V0 parts\n",
    "    @classmethod\n",
    "    def get_data_quantities(cls, desired_property, fixed_model, fixed_portions, data, sample_condition_dicts):\n",
    "        \"\"\"\n",
    "        Parameters\n",
    "        ----------\n",
    "        desired_property : str\n",
    "            String property corresponding to the features that could be fit, e.g. HM, SM_FORM, CPM_MIX\n",
    "        fixed_model : pycalphad.Model\n",
    "            Model with all lower order (in composition) terms already fit. Pure\n",
    "            element reference state (GHSER functions) should be set to zero.\n",
    "        fixed_portions : List[symengine.Basic]\n",
    "            SymEngine expressions for model parameters and interaction productions for\n",
    "            higher order (in T) terms for this property, e.g. [0, 3.0*YS*v.T]. In\n",
    "            [qty]/mole-formula.\n",
    "        data : List[Dict[str, Any]]\n",
    "            ESPEI single phase datasets for this property.\n",
    "\n",
    "        Returns\n",
    "        -------\n",
    "        np.ndarray[:]\n",
    "            Ravelled data quantities in [qty]/mole-formula\n",
    "\n",
    "        Notes\n",
    "        -----\n",
    "        pycalphad Model parameters (and therefore fixed_portions) are stored as per\n",
    "        mole-formula quantites, but the calculated properties and our data are all\n",
    "        in [qty]/mole-atoms. We multiply by mole-atoms/mole-formula to convert the\n",
    "        units to [qty]/mole-formula.\n",
    "\n",
    "        \"\"\"\n",
    "        mole_atoms_per_mole_formula_unit = fixed_model._site_ratio_normalization\n",
    "        # Define site fraction symbols that will be reused\n",
    "        YS = Symbol('YS')\n",
    "        Z = Symbol('Z')\n",
    "        V_I, V_J, V_K = Symbol('V_I'), Symbol('V_J'), Symbol('V_K')\n",
    "        phase_name = fixed_model.phase_name\n",
    "\n",
    "        # Construct flattened list of site fractions corresponding to the ravelled data (from shift_reference_state)\n",
    "        site_fractions = []\n",
    "        for ds in data:\n",
    "            for _ in ds['conditions']['T']:\n",
    "                sf = build_sitefractions(phase_name, ds['solver']['sublattice_configurations'], ds['solver'].get('sublattice_occupancies', np.ones((len(ds['solver']['sublattice_configurations']), len(ds['solver']['sublattice_configurations'][0])), dtype=np.float_)))\n",
    "                site_fractions.append(sf)\n",
    "        site_fractions = list(itertools.chain(*site_fractions))\n",
    "\n",
    "        if desired_property in feature_transforms:\n",
    "            feat_transform = feature_transforms[desired_property]\n",
    "        elif desired_property.startswith(\"V0\"):\n",
    "            feat_transform = lambda x: x  # TODO: hack because V0 should be V0 subtracted out\n",
    "        else:\n",
    "            feat_transform = lambda x: 0  # TODO: hack because VA shouldn't subtract out V0 contributions from model\n",
    "        # print(\"data_qtys 1\", data)\n",
    "        data_qtys = np.concatenate(shift_reference_state(data, feat_transform, fixed_model, mole_atoms_per_mole_formula_unit), axis=-1)\n",
    "        # print(\"data_qtys 2\", data_qtys)\n",
    "        # Remove existing partial model contributions from the data, convert to per mole-formula units\n",
    "        # TODO: assumption of Gibbs energy fitting here - assumes that we're always fitting against the existing ast/GM.\n",
    "        data_qtys = data_qtys - feat_transform(getattr(fixed_model, desired_property))*mole_atoms_per_mole_formula_unit\n",
    "        # print(\"data_qtys 3\", data_qtys)\n",
    "        # Subtract out high-order (in T) parameters we've already fit, already in per mole-formula units\n",
    "        data_qtys = data_qtys - feat_transform(sum(fixed_portions))\n",
    "        # print(\"data_qtys 4\", data_qtys)\n",
    "        # if any site fractions show up in our data_qtys that aren't in this datasets site fractions, set them to zero.\n",
    "        for sf, i, cond_dict in zip(site_fractions, data_qtys, sample_condition_dicts):\n",
    "            missing_variables = symengine.S(i).atoms(v.SiteFraction) - set(sf.keys())\n",
    "            # print(\"missing vars\", missing_variables)\n",
    "            sf.update({x: 0. for x in missing_variables})\n",
    "            # The equations we have just have the site fractions as YS\n",
    "            # and interaction products as Z, so take the product of all\n",
    "            # the site fractions that we see in our data qtys\n",
    "            sf.update(cond_dict)\n",
    "        # print(\"data_qtys 5\", data_qtys)\n",
    "        data_qtys = [symengine.S(i).xreplace(sf).evalf() for i, sf in zip(data_qtys, site_fractions)]\n",
    "        # print(\"data_qtys 6\", data_qtys)\n",
    "        data_qtys = np.asarray(data_qtys, dtype=np.float_)\n",
    "        # print(\"data_qtys 7\", data_qtys)\n",
    "\n",
    "        # Not in the orig function, added later. Might need to change for more advanced data model\n",
    "        data_quantities = cls.transform_data(data_qtys, fixed_model)\n",
    "        # one last sweep through subs sample_condition_dicts because our transform from the fixed model may have re-introduced symbols\n",
    "        # print(\"data_quantities\", data_quantities)\n",
    "        # unforunately we need to handle the case that data quanities didn't get made into a symbolic form\n",
    "        data_quantities = np.asarray([(dq.subs(scd) if not isinstance(dq, float) else dq) for dq, scd in zip(data_quantities, sample_condition_dicts)], dtype=np.object_)\n",
    "        # print(\"data_quantities x\", data_quantities)\n",
    "        return data_quantities\n",
    "\n",
    "\n",
    "class StepLogVA(FittingStep):\n",
    "    # V = V0*exp(VA), to linearize in terms of VA features, we want to fit\n",
    "    # VA = ln(V/V0)\n",
    "    parameter_name = \"VA\"\n",
    "    data_types_read = [\"VM\"]\n",
    "    features = [v.T, v.T**2, v.T**3, v.T**(-1)]\n",
    "    supported_reference_states = [\"\"]  # TODO: add mixing support\n",
    "\n",
    "    @staticmethod\n",
    "    def transform_data(d, model: Model) -> ArrayLike:\n",
    "        # We are given samples of volume (V) as our data (d).\n",
    "        # ln(V/V0) = VA\n",
    "        # cast to object_ because the real type may become a symengine.Expr\n",
    "        d = np.asarray(d, dtype=np.object_)\n",
    "        for i in range(d.shape[0]):\n",
    "            d[i] = symengine.log(d[i] / model.V0)\n",
    "        return d\n",
    "\n",
    "    @classmethod\n",
    "    def get_feature_sets(cls):\n",
    "        # All combinations of features\n",
    "        return list(itertools.chain(*(itertools.combinations(cls.features, n) for n in range(1, len(cls.features)+1))))\n",
    "\n",
    "    @classmethod\n",
    "    def get_data_quantities(cls, desired_property, fixed_model, fixed_portions, data, sample_condition_dicts):\n",
    "        \"\"\"\n",
    "        Parameters\n",
    "        ----------\n",
    "        desired_property : str\n",
    "            String property corresponding to the features that could be fit, e.g. HM, SM_FORM, CPM_MIX\n",
    "        fixed_model : pycalphad.Model\n",
    "            Model with all lower order (in composition) terms already fit. Pure\n",
    "            element reference state (GHSER functions) should be set to zero.\n",
    "        fixed_portions : List[symengine.Basic]\n",
    "            SymEngine expressions for model parameters and interaction productions for\n",
    "            higher order (in T) terms for this property, e.g. [0, 3.0*YS*v.T]. In\n",
    "            [qty]/mole-formula.\n",
    "        data : List[Dict[str, Any]]\n",
    "            ESPEI single phase datasets for this property.\n",
    "\n",
    "        Returns\n",
    "        -------\n",
    "        np.ndarray[:]\n",
    "            Ravelled data quantities in [qty]/mole-formula\n",
    "\n",
    "        Notes\n",
    "        -----\n",
    "        pycalphad Model parameters (and therefore fixed_portions) are stored as per\n",
    "        mole-formula quantites, but the calculated properties and our data are all\n",
    "        in [qty]/mole-atoms. We multiply by mole-atoms/mole-formula to convert the\n",
    "        units to [qty]/mole-formula.\n",
    "\n",
    "        \"\"\"\n",
    "        mole_atoms_per_mole_formula_unit = fixed_model._site_ratio_normalization\n",
    "        # Define site fraction symbols that will be reused\n",
    "        YS = Symbol('YS')\n",
    "        Z = Symbol('Z')\n",
    "        V_I, V_J, V_K = Symbol('V_I'), Symbol('V_J'), Symbol('V_K')\n",
    "        phase_name = fixed_model.phase_name\n",
    "\n",
    "        # Construct flattened list of site fractions corresponding to the ravelled data (from shift_reference_state)\n",
    "        site_fractions = []\n",
    "        for ds in data:\n",
    "            for _ in ds['conditions']['T']:\n",
    "                sf = build_sitefractions(phase_name, ds['solver']['sublattice_configurations'], ds['solver'].get('sublattice_occupancies', np.ones((len(ds['solver']['sublattice_configurations']), len(ds['solver']['sublattice_configurations'][0])), dtype=np.float_)))\n",
    "                site_fractions.append(sf)\n",
    "        site_fractions = list(itertools.chain(*site_fractions))\n",
    "\n",
    "        if desired_property in feature_transforms:\n",
    "            feat_transform = feature_transforms[desired_property]\n",
    "        elif desired_property.startswith(\"V0\"):\n",
    "            feat_transform = lambda x: x  # TODO: hack because V0 should be V0 subtracted out\n",
    "        else:\n",
    "            feat_transform = lambda x: 0  # TODO: hack because VA shouldn't subtract out V0 contributions from model\n",
    "        # print(\"data_qtys 1\", data)\n",
    "        data_qtys = np.concatenate(shift_reference_state(data, feat_transform, fixed_model, mole_atoms_per_mole_formula_unit), axis=-1)\n",
    "        # print(\"data_qtys 2\", data_qtys)\n",
    "        # Remove existing partial model contributions from the data, convert to per mole-formula units\n",
    "        # TODO: assumption of Gibbs energy fitting here - assumes that we're always fitting against the existing ast/GM.\n",
    "        data_qtys = data_qtys - feat_transform(getattr(fixed_model, desired_property))*mole_atoms_per_mole_formula_unit\n",
    "        # print(\"data_qtys 3\", data_qtys)\n",
    "        # Subtract out high-order (in T) parameters we've already fit, already in per mole-formula units\n",
    "        data_qtys = data_qtys - feat_transform(sum(fixed_portions))\n",
    "        # print(\"data_qtys 4\", data_qtys)\n",
    "        # if any site fractions show up in our data_qtys that aren't in this datasets site fractions, set them to zero.\n",
    "        for sf, i, cond_dict in zip(site_fractions, data_qtys, sample_condition_dicts):\n",
    "            missing_variables = symengine.S(i).atoms(v.SiteFraction) - set(sf.keys())\n",
    "            # print(\"missing vars\", missing_variables)\n",
    "            sf.update({x: 0. for x in missing_variables})\n",
    "            # The equations we have just have the site fractions as YS\n",
    "            # and interaction products as Z, so take the product of all\n",
    "            # the site fractions that we see in our data qtys\n",
    "            sf.update(cond_dict)\n",
    "        # print(\"data_qtys 5\", data_qtys)\n",
    "        data_qtys = [symengine.S(i).xreplace(sf).evalf() for i, sf in zip(data_qtys, site_fractions)]\n",
    "        # print(\"data_qtys 6\", data_qtys)\n",
    "        data_qtys = np.asarray(data_qtys, dtype=np.float_)\n",
    "        # print(\"data_qtys 7\", data_qtys)\n",
    "\n",
    "        # Not in the orig function, added later. Might need to change for more advanced data model\n",
    "        data_quantities = cls.transform_data(data_qtys, fixed_model)\n",
    "        # one last sweep through subs sample_condition_dicts because our transform from the fixed model may have re-introduced symbols\n",
    "        # print(\"data_quantities\", data_quantities)\n",
    "        # unforunately we need to handle the case that data quanities didn't get made into a symbolic form\n",
    "        data_quantities = np.asarray([(dq.subs(scd) if not isinstance(dq, float) else dq) for dq, scd in zip(data_quantities, sample_condition_dicts)], dtype=np.object_)\n",
    "        # print(\"data_quantities x\", data_quantities)\n",
    "        return data_quantities"
   ]
  },
  {
   "cell_type": "code",
   "execution_count": 2,
   "metadata": {},
   "outputs": [],
   "source": [
    "from espei.parameter_selection.selection import fit_model, select_model\n",
    "from espei.core_utils import filter_configurations, filter_temperatures\n",
    "\n",
    "# Modified version of the following import\n",
    "# from espei.parameter_selection.utils import _get_sample_condition_dicts\n",
    "# the idea of the modified version is that we also compute the actual site fractions\n",
    "# individual site fractions are not currently handled by ESPEI, but can slip in\n",
    "# from existing models if not using a reference state where those contributions\n",
    "# cancel (e.g. no _MIX or _FORM refstates keep the unary extrapolation).\n",
    "# to do this, we'll use the config tuple and create site fractions from the points dict\n",
    "from espei.parameter_selection.redlich_kister import calc_interaction_product\n",
    "def _get_sample_condition_dicts(calculate_dict, configuration_tuple, phase_name) -> List[Dict[Symbol, float]]:\n",
    "    sublattice_dof = list(map(len, configuration_tuple))\n",
    "    sample_condition_dicts = []\n",
    "    for sample_idx in range(calculate_dict[\"values\"].size):\n",
    "        cond_dict = {}\n",
    "        points = calculate_dict[\"points\"][sample_idx, :]\n",
    "\n",
    "        # T and P\n",
    "        cond_dict[v.T] = calculate_dict[\"T\"][sample_idx]\n",
    "        cond_dict[v.P] = calculate_dict[\"P\"][sample_idx]\n",
    "\n",
    "        # YS site fraction product\n",
    "        site_fraction_product = np.prod(points)\n",
    "        cond_dict[Symbol(\"YS\")] = site_fraction_product\n",
    "\n",
    "        # Reconstruct site fractions in sublattice form from points\n",
    "        # Required so we can identify which sublattices have interactions\n",
    "        points_idxs = [0] + np.cumsum(sublattice_dof).tolist()\n",
    "        site_fractions = []\n",
    "        for subl_idx in range(len(points_idxs)-1):\n",
    "            subl_site_fractions = points[points_idxs[subl_idx]:points_idxs[subl_idx+1]]\n",
    "            for species_name, site_frac in zip(configuration_tuple[subl_idx], subl_site_fractions):\n",
    "                cond_dict[v.Y(phase_name, subl_idx, species_name)] = site_frac\n",
    "            site_fractions.append(subl_site_fractions.tolist())\n",
    "\n",
    "        # Z (binary) or V_I, V_J, V_K (ternary) interaction products\n",
    "        interaction_product = calc_interaction_product(site_fractions)\n",
    "        if hasattr(interaction_product, \"__len__\"):\n",
    "            # Ternary interaction\n",
    "            assert len(interaction_product) == 3\n",
    "            cond_dict[Symbol(\"V_I\")] = interaction_product[0]\n",
    "            cond_dict[Symbol(\"V_J\")] = interaction_product[1]\n",
    "            cond_dict[Symbol(\"V_K\")] = interaction_product[2]\n",
    "        else:\n",
    "            cond_dict[Symbol(\"Z\")] = interaction_product\n",
    "\n",
    "        sample_condition_dicts.append(cond_dict)\n",
    "    return sample_condition_dicts\n",
    "\n",
    "\n",
    "def fit_model_x(model_fitting_description: ModelFittingDescription, datasets, dbf):\n",
    "    for fitting_step in model_fitting_description.fitting_steps:\n",
    "        # TODO: hardcoded\n",
    "        comps = datasets[0][\"components\"]\n",
    "        phase = datasets[0][\"phases\"][0]\n",
    "        fixed_model = Model(dbf, comps, phase)\n",
    "        print(\"fitting_step\", fitting_step)\n",
    "        desired_data = [ds for ds in datasets if any(ds[\"output\"].startswith(dtype) for dtype in fitting_step.data_types_read)] # TODO: proper query datasets for matches\n",
    "        # configuration = [[\"TA\", \"W\"]]  # maybe needs to be canonical? not sure\n",
    "        configuration = datasets[0][\"solver\"][\"sublattice_configurations\"][0]  # maybe needs to be canonical? not sure\n",
    "        symmetry = None\n",
    "        desired_data = filter_configurations(desired_data, configuration, symmetry)\n",
    "        # print(\"filter_configurations\", desired_data)\n",
    "        desired_data = filter_temperatures(desired_data)\n",
    "        # print(\"filter_temperatures\", desired_data)\n",
    "        if len(desired_data) == 0:\n",
    "            print(\"exiting with no data\")\n",
    "            # early exit, nothing to do with our data\n",
    "            return  # TODO: match expected return type\n",
    "\n",
    "        config_tup = tuple(map(tuplify, configuration))\n",
    "        calculate_dict = get_prop_samples(desired_data, config_tup)\n",
    "        # print(\"calculate_dict\", calculate_dict)\n",
    "        sample_condition_dicts = _get_sample_condition_dicts(calculate_dict, config_tup, fixed_model.phase_name)\n",
    "        # print(\"sample_condition_dicts\", sample_condition_dicts)\n",
    "        # We assume all properties in the same fitting step have the same\n",
    "        # features (all CPM, all HM, etc., but different ref states).\n",
    "        # data quantities are the same for each candidate model and can be computed up front\n",
    "        # TODO: support that we can possibly have multiple data types per feature type\n",
    "        fixed_portions = []  # TODO: we need to support the fact that there's fixed_portions from earlier fitting steps. e.g. VA has a V0 fixed portion\n",
    "        # print(\"desired_data\", desired_data)\n",
    "        regression_rhs = fitting_step.get_data_quantities(fitting_step.data_types_read[0], fixed_model, fixed_portions, desired_data, sample_condition_dicts)\n",
    "        # print(\"data_qtys\", data_qtys)\n",
    "\n",
    "        candidate_models = []\n",
    "        # Transform param-only features to parameter+RK features\n",
    "        feature_sets = build_redlich_kister_candidate_models(config_tup, fitting_step.get_feature_sets())\n",
    "        for features in feature_sets:\n",
    "            feature_matrix = _build_feature_matrix(sample_condition_dicts, list(map(fitting_step.transform_feature, features)))\n",
    "            # print(\"symbolic_coefficients\", list(map(fitting_step.transform_feature, features)))\n",
    "            # print(\"feature_matrix\", feature_matrix)\n",
    "            candidate_model = (features, feature_matrix, regression_rhs)\n",
    "            # print(\"features\", features)\n",
    "            # print(\"candidate_model\", candidate_model)\n",
    "            # TODO: maybe need to substitite our sample condition dicts manually somewhere if the site fractions didn't get subbed properly. TBD\n",
    "            candidate_models.append(candidate_model)\n",
    "            # coeffs = fit_model(feature_matrix, data_quantities, 1e-100)\n",
    "            # print(features)\n",
    "        # print('candidate_models', candidate_models)\n",
    "        selected_features, selected_coeffs = select_model(candidate_models, 1e-100, 1.0)\n",
    "        # print(\"selected_features\", selected_features, selected_coeffs)\n",
    "        # TODO: hardcoded, don't do this :)\n",
    "        # We do this to solve for the problem where VA parameters depend on V0 model contributions being in the database (i.e., so VA doesn't divide by the model V0 = 0 (div by zero))\n",
    "        # if fitting_step.parameter_name == \"V0\":\n",
    "        if True:\n",
    "            # TODO: Doesn't account for higher order excess parameters beyond excess order 0 (hardcoded)\n",
    "            for coeff, feat in zip(selected_coeffs, selected_features):\n",
    "                param = coeff*feat.subs({Symbol(\"YS\"): 1.0})\n",
    "                print(f\"Adding {fitting_step.parameter_name} parameters to {fixed_model.phase_name} {tuple(map(tuplify, configuration))} {param}\")\n",
    "                dbf.add_parameter(fitting_step.parameter_name, fixed_model.phase_name, tuple(map(tuplify, configuration)), 0, param)\n"
   ]
  },
  {
   "cell_type": "code",
   "execution_count": 3,
   "metadata": {},
   "outputs": [],
   "source": [
    "# # VA binary fitting\n",
    "# # For fitting VA, we might need to be careful about how we're using shift_reference_state\n",
    "# # I think we need to shift_reference_state to always use real volumes so we\n",
    "# # don't get trapped trying to do the log on a negative (excess) volume when we\n",
    "# # do the linearization\n",
    "# # Q: is it a viable alternative if we treat all excess volumes as positive and adjust the sign later?\n",
    "\n",
    "# molar_volume_fit_desc = ModelFittingDescription(StepV0, StepLogVA)\n",
    "# datasets = [\n",
    "#     # dummy dataset for 50/50 composition, eventually these should be real ESPEI datasets\n",
    "#     {\n",
    "#         \"components\": [\"TA\", \"W\"],\n",
    "#         \"phases\": [\"BCC_A2\"],\n",
    "#         \"output\": \"V0\",\n",
    "#         \"values\": [[[1.00448925e-05]]],  # \"fixed\" value (absolute value from mix data with calphd reference state) extracted manually from above\n",
    "#         \"conditions\": {\"T\": 298.15, \"P\": 101325},\n",
    "#         \"solver\": {\"sublattice_site_ratios\": [1], \"sublattice_configurations\": [[[\"TA\", \"W\"]]], \"sublattice_occupancies\": [[[0.5, 0.5]]]},\n",
    "#         \"reference\": \"VASP (LLNL)\",\n",
    "#         \"bibtex\": \"UNPUBLISHED\",\n",
    "#         \"comment\": \"Brandon Bocklund DFT calculations. VASP, PBEsol, PAW 400 eV cutoff, 0.2 KSPACING\",\n",
    "#         \"tags\": [\"non-equilibrium-thermochemical\", \"LLNL-proprietary\"]\n",
    "#     },\n",
    "#     {\n",
    "#         \"components\": [\"TA\", \"W\"],\n",
    "#         \"phases\": [\"BCC_A2\"],\n",
    "#         \"output\": \"VM\",\n",
    "#         \"values\": [[[9.997209252001686e-06]]],  # \"fixed\" value (absolute value from mix data with calphd reference state) extracted manually from above\n",
    "#         \"conditions\": {\"T\": 298.15, \"P\": 101325},\n",
    "#         \"solver\": {\"sublattice_site_ratios\": [1], \"sublattice_configurations\": [[[\"TA\", \"W\"]]], \"sublattice_occupancies\": [[[0.5, 0.5]]]},\n",
    "#         \"reference\": \"VASP (LLNL)\",\n",
    "#         \"bibtex\": \"UNPUBLISHED\",\n",
    "#         \"comment\": \"Brandon Bocklund DFT calculations. VASP, PBEsol, PAW 400 eV cutoff, 0.2 KSPACING\",\n",
    "#         \"tags\": [\"non-equilibrium-thermochemical\", \"LLNL-proprietary\"]\n",
    "#     }\n",
    "# ]\n",
    "# dbf = Database(\"lu2005-volumes.tdb\")\n",
    "# mod = Model(dbf, [\"TA\", \"W\"], \"BCC_A2\")\n",
    "\n",
    "# fit_model_x(molar_volume_fit_desc, datasets, dbf)  # parameter added automatically\n",
    "\n",
    "# # important, do not reload the database because we just added a new parameter!\n",
    "# mod = Model(dbf, [\"TA\", \"W\"], \"BCC_A2\")\n",
    "\n",
    "# x_TA = np.linspace(0, 1, 1001)\n",
    "# x_W = 1-x_TA\n",
    "# x_TA_W = np.empty((x_TA.shape[-1], 2))\n",
    "# x_TA_W[:, 0] = x_TA\n",
    "# x_TA_W[:, 1] = x_W\n",
    "# func_V0_TA_W = lambdify([v.Y(\"BCC_A2\", 0, \"TA\"), v.Y(\"BCC_A2\", 0, \"W\")], [mod.V0])\n",
    "# func_VM_TA_W = lambdify([v.Y(\"BCC_A2\", 0, \"TA\"), v.Y(\"BCC_A2\", 0, \"W\")], [mod.VM.subs({v.T: 298.15})])\n",
    "\n",
    "# v0_calphad = {  # these were extracted \"by hand\" from the print output above\n",
    "#     \"CR\": 7.0403e-06,\n",
    "#     \"FE\": 7.0079e-06,\n",
    "#     \"MO\": 9.3461e-06,\n",
    "#     \"NB\": 1.0752e-05,\n",
    "#     \"TA\": 1.0787e-05,\n",
    "#     \"TI\": 1.0592e-05,\n",
    "#     \"V\": 8.2481e-06,\n",
    "#     \"W\": 9.5033e-06,\n",
    "#     \"ZR\": 1.3812e-05,\n",
    "# }\n",
    "\n",
    "# # raw V0s from DFT\n",
    "# data_5pt_x_W = np.asarray([0, 0.25, 0.50, 0.75, 1.0])\n",
    "# data_5pt_V0 = np.asarray([1.0648e-05, 1.0287174212562773e-05, 9.957742546823015e-06, 9.699231530816361e-06, 9.468e-06])\n",
    "\n",
    "# # fix the reference state to match calphad\n",
    "# #                     V0             DFT V0_Ta * x_TA              +      DFT V0_W * x_W\n",
    "# # mixing reference state\n",
    "# data_5pt_V0_mix = data_5pt_V0 - (data_5pt_V0[0]*(1-data_5pt_x_W) + data_5pt_V0[-1]*(data_5pt_x_W))\n",
    "# # absolute values of Calphad unary + DFT_MIX binary\n",
    "# #                Calphad V0_Ta * x_TA               +       Calphad V0_W * x_W       +  DFT V0 MIX\n",
    "# data_5pt_V0_fix = v0_calphad[\"TA\"]*(1-data_5pt_x_W) + v0_calphad[\"W\"]*(data_5pt_x_W) + data_5pt_V0_mix\n",
    "# print(data_5pt_V0_fix)\n",
    "\n",
    "# data_1pt_x_W = data_5pt_x_W[[0,2,4]]\n",
    "# data_1pt_V0 = data_5pt_V0_fix[[0,2,4]]\n",
    "\n",
    "# plt.title(\"Ta-W VO:\\nBinary after fitting\")\n",
    "# plt.plot(x_W, func_V0_TA_W(x_TA_W), label=\"Model after binary data fit\")\n",
    "# plt.scatter(data_1pt_x_W, data_1pt_V0, label='Binary data')\n",
    "# plt.legend()\n",
    "# plt.xlabel(\"X(W)\")\n",
    "# plt.ylabel(\"V0\")\n",
    "# plt.xlim(0, 1)\n",
    "\n",
    "# plt.figure()\n",
    "\n",
    "# plt.title(\"Ta-W VM:\\nBinary after fitting\")\n",
    "# plt.plot(x_W, func_VM_TA_W(x_TA_W), label=\"Model after binary data fit\")\n",
    "# data_1pt_VM = -2.0e-7 + (func_VM_TA_W([1, 0])*0.5 + func_VM_TA_W([0, 1])*0.5)\n",
    "# print(\"data_1pt_VM\", data_1pt_VM)\n",
    "# plt.scatter([0.5], data_1pt_VM, label='Binary data')\n",
    "# plt.legend()\n",
    "# plt.xlabel(\"X(W)\")\n",
    "# plt.ylabel(\"VM\")\n",
    "# plt.xlim(0, 1)"
   ]
  },
  {
   "cell_type": "markdown",
   "metadata": {},
   "source": [
    "## Unary fitting\n",
    "\n",
    "Using Hf here so we can use the same TDB (there's no BCC data for Hf)\n",
    "\n",
    "The data itself is fictious and based on Lu 2005 Al data."
   ]
  },
  {
   "cell_type": "code",
   "execution_count": 4,
   "metadata": {},
   "outputs": [],
   "source": [
    "molar_volume_fit_desc = ModelFittingDescription(StepV0, StepLogVA)\n",
    "datasets = [\n",
    "    # Hf\n",
    "    {\n",
    "        \"components\": [\"HF\"],\n",
    "        \"phases\": [\"BCC_A2\"],\n",
    "        \"conditions\": {\"P\": 101315, \"T\": 298.15},\n",
    "        \"output\": \"V0\",\n",
    "        \"solver\": {\"mode\": \"manual\", \"sublattice_site_ratios\": [1], \"sublattice_configurations\": [[[\"HF\"]]], \"sublattice_occupancies\": [[[1.0]]]},\n",
    "        \"values\": [[[10.1092e-6]]],\n",
    "        \"reference\": \"VASP (LLNL)\",\n",
    "        \"bibtex\": \"UNPUBLISHED\",\n",
    "        \"comment\": \"Brandon Bocklund DFT calculations. VASP, PBEsol, PAW 400 eV cutoff, 0.2 KSPACING\",\n",
    "        \"tags\": [\"non-equilibrium-thermochemical\", \"LLNL-proprietary\"]\n",
    "    },\n",
    "    {\n",
    "        \"components\": [\"HF\"],\n",
    "        \"phases\": [\"BCC_A2\"],\n",
    "        \"conditions\": {\"P\": 101315, \"T\": [274.5886654478977, 317.001828153565, 376.9652650822671, 455.94149908592334, 531.9926873857406, 602.1937842778796, 691.4076782449727, 850.8226691042048, 945.8866544789764, 1081.9012797074956, 1232.5411334552105]},\n",
    "        \"output\": \"VM\",\n",
    "        \"solver\": {\"mode\": \"manual\", \"sublattice_site_ratios\": [1], \"sublattice_configurations\": [[[\"HF\"]]], \"sublattice_occupancies\": [[[1.0]]]},\n",
    "        \"values\": [[[0.0000102595070150209], [0.000010282702483979838], [0.000010316942197393508], [0.00001036333044520191], [0.000010413028200193464], [0.000010467137734726063], [0.00001052456686435235], [0.000010640519998161758], [0.000010715609696499606], [0.000010824930365395328], [0.000010955226490404716]]],\n",
    "        \"reference\": \"VASP (LLNL)\",\n",
    "        \"bibtex\": \"UNPUBLISHED\",\n",
    "        \"comment\": \"Brandon Bocklund DFT calculations. VASP, PBEsol, PAW 400 eV cutoff, 0.2 KSPACING\",\n",
    "        \"tags\": [\"non-equilibrium-thermochemical\", \"LLNL-proprietary\"]\n",
    "    }\n",
    "]\n",
    "\n",
    "# print(f\"Model components (for verification): {mod.components}\")"
   ]
  },
  {
   "cell_type": "code",
   "execution_count": 5,
   "metadata": {},
   "outputs": [
    {
     "name": "stdout",
     "output_type": "stream",
     "text": [
      "fitting_step <class '__main__.StepV0'>\n",
      "Adding V0 parameters to BCC_A2 (('HF',),) 1.01092e-05\n",
      "fitting_step <class '__main__.StepLogVA'>\n",
      "Adding VA parameters to BCC_A2 (('HF',),) 4.93114124386704e-05*T\n",
      "Adding VA parameters to BCC_A2 (('HF',),) 1.28961475284888e-08*T**2\n"
     ]
    }
   ],
   "source": [
    "dbf = Database(\"lu2005-volumes.tdb\")\n",
    "mod_nofit = Model(dbf, [\"HF\"], \"BCC_A2\")\n",
    "fit_model_x(molar_volume_fit_desc, datasets, dbf)\n"
   ]
  },
  {
   "cell_type": "markdown",
   "metadata": {},
   "source": [
    "Pre-fit plot"
   ]
  },
  {
   "cell_type": "code",
   "execution_count": 6,
   "metadata": {},
   "outputs": [
    {
     "data": {
      "text/plain": [
       "Text(0, 0.5, 'VM')"
      ]
     },
     "execution_count": 6,
     "metadata": {},
     "output_type": "execute_result"
    },
    {
     "data": {
      "image/png": "[encoded data removed]",
      "text/plain": [
       "<Figure size 432x288 with 1 Axes>"
      ]
     },
     "metadata": {
      "needs_background": "light"
     },
     "output_type": "display_data"
    }
   ],
   "source": [
    "\n",
    "mod = Model(dbf, [\"HF\"], \"BCC_A2\")\n",
    "\n",
    "pT = np.linspace(250, 1500, 1001)\n",
    "func_HF_VM_nofit = lambdify([v.T], [mod_nofit.VM.subs({v.Y(\"BCC_A2\", 0, \"HF\"): 1.0})])\n",
    "func_HF_VM = lambdify([v.T], [mod.VM.subs({v.Y(\"BCC_A2\", 0, \"HF\"): 1.0})])\n",
    "\n",
    "# raw V0s from DFT\n",
    "data_T = np.asarray(datasets[1][\"conditions\"][\"T\"])\n",
    "data_VM = np.asarray(datasets[1][\"values\"]).squeeze()\n",
    "\n",
    "\n",
    "plt.title(\"BCC Hf unary VM\")\n",
    "# plt.plot(pT, func_HF_VM(pT), label=\"Model after fit\")\n",
    "plt.plot(pT, func_HF_VM_nofit(pT), label=\"Model before fit\", c='r')\n",
    "plt.scatter(data_T, data_VM, label='VM data')\n",
    "plt.legend()\n",
    "plt.xlabel(\"T\")\n",
    "plt.ylabel(\"VM\")\n",
    "# plt.xlim(0, 1)"
   ]
  },
  {
   "cell_type": "code",
   "execution_count": 7,
   "metadata": {},
   "outputs": [
    {
     "data": {
      "text/plain": [
       "Text(0, 0.5, 'VM')"
      ]
     },
     "execution_count": 7,
     "metadata": {},
     "output_type": "execute_result"
    },
    {
     "data": {
      "image/png": "[encoded data removed]",
      "text/plain": [
       "<Figure size 432x288 with 1 Axes>"
      ]
     },
     "metadata": {
      "needs_background": "light"
     },
     "output_type": "display_data"
    }
   ],
   "source": [
    "pT = np.linspace(250, 1500, 1001)\n",
    "func_HF_VM_nofit = lambdify([v.T], [mod_nofit.VM.subs({v.Y(\"BCC_A2\", 0, \"HF\"): 1.0})])\n",
    "func_HF_VM = lambdify([v.T], [mod.VM.subs({v.Y(\"BCC_A2\", 0, \"HF\"): 1.0})])\n",
    "\n",
    "# raw V0s from DFT\n",
    "data_T = np.asarray(datasets[1][\"conditions\"][\"T\"])\n",
    "data_VM = np.asarray(datasets[1][\"values\"]).squeeze()\n",
    "\n",
    "\n",
    "plt.title(\"BCC Hf unary VM\")\n",
    "plt.plot(pT, func_HF_VM(pT), label=\"Model after fit\")\n",
    "# plt.plot(pT, func_HF_VM_nofit(pT), label=\"Model before fit\", c='r')\n",
    "plt.scatter(data_T, data_VM, label='VM data')\n",
    "plt.legend()\n",
    "plt.xlabel(\"T\")\n",
    "plt.ylabel(\"VM\")\n",
    "# plt.xlim(0, 1)"
   ]
  },
  {
   "cell_type": "markdown",
   "metadata": {},
   "source": [
    "## Binary fitting\n",
    "\n",
    "### Basic 1 point data"
   ]
  },
  {
   "cell_type": "code",
   "execution_count": 8,
   "metadata": {},
   "outputs": [
    {
     "name": "stdout",
     "output_type": "stream",
     "text": [
      "Model components (for verification): [Species('TA', 'TA1'), Species('W', 'W1')]\n"
     ]
    }
   ],
   "source": [
    "molar_volume_fit_desc = ModelFittingDescription(StepV0, StepLogVA)\n",
    "datasets = [\n",
    "    # dummy dataset for 50/50 composition, eventually these should be real ESPEI datasets\n",
    "    {\n",
    "        \"components\": [\"TA\", \"W\"],\n",
    "        \"phases\": [\"BCC_A2\"],\n",
    "        \"output\": \"V0\",\n",
    "        \"values\": [[[1.00448925e-05]]],  # \"fixed\" value (absolute value from mix data with calphd reference state) extracted manually from above\n",
    "        \"conditions\": {\"T\": 298.15, \"P\": 101325},\n",
    "        \"solver\": {\"sublattice_site_ratios\": [1], \"sublattice_configurations\": [[[\"TA\", \"W\"]]], \"sublattice_occupancies\": [[[0.5, 0.5]]]},\n",
    "        \"reference\": \"VASP (LLNL)\",\n",
    "        \"bibtex\": \"UNPUBLISHED\",\n",
    "        \"comment\": \"Brandon Bocklund DFT calculations. VASP, PBEsol, PAW 400 eV cutoff, 0.2 KSPACING\",\n",
    "        \"tags\": [\"non-equilibrium-thermochemical\", \"LLNL-proprietary\"]\n",
    "    }\n",
    "]\n",
    "dbf = Database(\"lu2005-volumes.tdb\")\n",
    "mod = Model(dbf, [\"TA\", \"W\"], \"BCC_A2\")\n",
    "\n",
    "print(f\"Model components (for verification): {mod.components}\")"
   ]
  },
  {
   "cell_type": "code",
   "execution_count": 9,
   "metadata": {},
   "outputs": [
    {
     "name": "stdout",
     "output_type": "stream",
     "text": [
      "fitting_step <class '__main__.StepV0'>\n",
      "Adding V0 parameters to BCC_A2 (('TA', 'W'),) -4.00189999999996e-07\n",
      "fitting_step <class '__main__.StepLogVA'>\n",
      "exiting with no data\n"
     ]
    }
   ],
   "source": [
    "fit_model_x(molar_volume_fit_desc, datasets, dbf)  # parameter added automatically"
   ]
  },
  {
   "cell_type": "code",
   "execution_count": 10,
   "metadata": {},
   "outputs": [
    {
     "name": "stdout",
     "output_type": "stream",
     "text": [
      "[1.07870000e-05 1.04002492e-05 1.00448925e-05 9.76045653e-06\n",
      " 9.50330000e-06]\n"
     ]
    },
    {
     "data": {
      "text/plain": [
       "(0.0, 1.0)"
      ]
     },
     "execution_count": 10,
     "metadata": {},
     "output_type": "execute_result"
    },
    {
     "data": {
      "image/png": "[encoded data removed]",
      "text/plain": [
       "<Figure size 432x288 with 1 Axes>"
      ]
     },
     "metadata": {
      "needs_background": "light"
     },
     "output_type": "display_data"
    }
   ],
   "source": [
    "# important, do not reload the database because we just added a new parameter!\n",
    "mod = Model(dbf, [\"TA\", \"W\"], \"BCC_A2\")\n",
    "\n",
    "x_TA = np.linspace(0, 1, 1001)\n",
    "x_W = 1-x_TA\n",
    "x_TA_W = np.empty((x_TA.shape[-1], 2))\n",
    "x_TA_W[:, 0] = x_TA\n",
    "x_TA_W[:, 1] = x_W\n",
    "func_V0_TA_W = lambdify([v.Y(\"BCC_A2\", 0, \"TA\"), v.Y(\"BCC_A2\", 0, \"W\")], [mod.V0])\n",
    "\n",
    "v0_calphad = {  # these were extracted \"by hand\" from the print output above\n",
    "    \"CR\": 7.0403e-06,\n",
    "    \"FE\": 7.0079e-06,\n",
    "    \"MO\": 9.3461e-06,\n",
    "    \"NB\": 1.0752e-05,\n",
    "    \"TA\": 1.0787e-05,\n",
    "    \"TI\": 1.0592e-05,\n",
    "    \"V\": 8.2481e-06,\n",
    "    \"W\": 9.5033e-06,\n",
    "    \"ZR\": 1.3812e-05,\n",
    "}\n",
    "\n",
    "# raw V0s from DFT\n",
    "data_5pt_x_W = np.asarray([0, 0.25, 0.50, 0.75, 1.0])\n",
    "data_5pt_V0 = np.asarray([1.0648e-05, 1.0287174212562773e-05, 9.957742546823015e-06, 9.699231530816361e-06, 9.468e-06])\n",
    "\n",
    "# fix the reference state to match calphad\n",
    "#                     V0             DFT V0_Ta * x_TA              +      DFT V0_W * x_W\n",
    "# mixing reference state\n",
    "data_5pt_V0_mix = data_5pt_V0 - (data_5pt_V0[0]*(1-data_5pt_x_W) + data_5pt_V0[-1]*(data_5pt_x_W))\n",
    "# absolute values of Calphad unary + DFT_MIX binary\n",
    "#                Calphad V0_Ta * x_TA               +       Calphad V0_W * x_W       +  DFT V0 MIX\n",
    "data_5pt_V0_fix = v0_calphad[\"TA\"]*(1-data_5pt_x_W) + v0_calphad[\"W\"]*(data_5pt_x_W) + data_5pt_V0_mix\n",
    "print(data_5pt_V0_fix)\n",
    "\n",
    "data_1pt_x_W = data_5pt_x_W[[0,2,4]]\n",
    "data_1pt_V0 = data_5pt_V0_fix[[0,2,4]]\n",
    "\n",
    "plt.title(\"Ta-W:\\nBinary after fitting\")\n",
    "plt.plot(x_W, func_V0_TA_W(x_TA_W), label=\"Model after binary data fit\")\n",
    "plt.scatter(data_1pt_x_W, data_1pt_V0, label='Binary data')\n",
    "plt.legend()\n",
    "plt.xlabel(\"X(W)\")\n",
    "plt.ylabel(\"V0\")\n",
    "plt.xlim(0, 1)"
   ]
  },
  {
   "cell_type": "markdown",
   "metadata": {},
   "source": [
    "Repeat the above, but now use a real dataset"
   ]
  },
  {
   "cell_type": "code",
   "execution_count": 11,
   "metadata": {},
   "outputs": [
    {
     "name": "stdout",
     "output_type": "stream",
     "text": [
      "Model components (for verification): [Species('TA', 'TA1'), Species('W', 'W1')]\n"
     ]
    }
   ],
   "source": [
    "molar_volume_fit_desc = ModelFittingDescription(StepV0, StepLogVA)\n",
    "datasets = [\n",
    "    {\n",
    "        \"components\": [\"TA\", \"W\"],\n",
    "        \"phases\": [\"BCC_A2\"],\n",
    "        \"conditions\": {\"P\": 101315, \"T\": 298.15},\n",
    "        \"output\": \"V0\",\n",
    "        \"solver\": {\"mode\": \"manual\", \"sublattice_site_ratios\": [1], \"sublattice_configurations\": [[[\"TA\", \"W\"]], [[\"TA\", \"W\"]], [[\"TA\", \"W\"]]], \"sublattice_occupancies\": [[[0.75, 0.25]], [[0.5, 0.5]], [[0.25, 0.75]]]},\n",
    "        \"values\": [[[1.04002492e-05, 1.00448925e-05, 9.76045653e-06]]],  # fixed values from calculation w/ calphad refstate\n",
    "        \"reference\": \"VASP (LLNL)\",\n",
    "        \"bibtex\": \"UNPUBLISHED\",\n",
    "        \"comment\": \"Brandon Bocklund DFT calculations. VASP, PBEsol, PAW 400 eV cutoff, 0.2 KSPACING\",\n",
    "        \"tags\": [\"non-equilibrium-thermochemical\", \"LLNL-proprietary\"]\n",
    "    }\n",
    "]\n",
    "dbf = Database(\"lu2005-volumes.tdb\")\n",
    "mod = Model(dbf, [\"TA\", \"W\"], \"BCC_A2\")\n",
    "\n",
    "print(f\"Model components (for verification): {mod.components}\")"
   ]
  },
  {
   "cell_type": "code",
   "execution_count": 12,
   "metadata": {},
   "outputs": [
    {
     "name": "stdout",
     "output_type": "stream",
     "text": [
      "fitting_step <class '__main__.StepV0'>\n",
      "Adding V0 parameters to BCC_A2 (('TA', 'W'),) -3.70688381176468e-07\n",
      "fitting_step <class '__main__.StepLogVA'>\n",
      "exiting with no data\n"
     ]
    }
   ],
   "source": [
    "fit_model_x(molar_volume_fit_desc, datasets, dbf)"
   ]
  },
  {
   "cell_type": "code",
   "execution_count": 13,
   "metadata": {},
   "outputs": [
    {
     "name": "stdout",
     "output_type": "stream",
     "text": [
      "mix [ 0.00000000e+00 -6.58257874e-08 -1.00257453e-07 -6.37684692e-08\n",
      "  0.00000000e+00]\n",
      "[1.07870000e-05 1.04002492e-05 1.00448925e-05 9.76045653e-06\n",
      " 9.50330000e-06]\n"
     ]
    },
    {
     "data": {
      "text/plain": [
       "(0.0, 1.0)"
      ]
     },
     "execution_count": 13,
     "metadata": {},
     "output_type": "execute_result"
    },
    {
     "data": {
      "image/png": "[encoded data removed]",
      "text/plain": [
       "<Figure size 432x288 with 1 Axes>"
      ]
     },
     "metadata": {
      "needs_background": "light"
     },
     "output_type": "display_data"
    }
   ],
   "source": [
    "# important, do not reload the database because we just added a new parameter!\n",
    "mod = Model(dbf, [\"TA\", \"W\"], \"BCC_A2\")\n",
    "\n",
    "x_TA = np.linspace(0, 1, 1001)\n",
    "x_W = 1-x_TA\n",
    "x_TA_W = np.empty((x_TA.shape[-1], 2))\n",
    "x_TA_W[:, 0] = x_TA\n",
    "x_TA_W[:, 1] = x_W\n",
    "func_V0_TA_W = lambdify([v.Y(\"BCC_A2\", 0, \"TA\"), v.Y(\"BCC_A2\", 0, \"W\")], [mod.V0])\n",
    "\n",
    "v0_calphad = {  # these were extracted \"by hand\" from the print output above\n",
    "    \"CR\": 7.0403e-06,\n",
    "    \"FE\": 7.0079e-06,\n",
    "    \"MO\": 9.3461e-06,\n",
    "    \"NB\": 1.0752e-05,\n",
    "    \"TA\": 1.0787e-05,\n",
    "    \"TI\": 1.0592e-05,\n",
    "    \"V\": 8.2481e-06,\n",
    "    \"W\": 9.5033e-06,\n",
    "    \"ZR\": 1.3812e-05,\n",
    "}\n",
    "\n",
    "# raw V0s from DFT\n",
    "data_5pt_x_W = np.asarray([0, 0.25, 0.50, 0.75, 1.0])\n",
    "data_5pt_V0 = np.asarray([1.0648e-05, 1.0287174212562773e-05, 9.957742546823015e-06, 9.699231530816361e-06, 9.468e-06])\n",
    "\n",
    "# fix the reference state to match calphad\n",
    "#                     V0             DFT V0_Ta * x_TA              +      DFT V0_W * x_W\n",
    "# mixing reference state\n",
    "data_5pt_V0_mix = data_5pt_V0 - (data_5pt_V0[0]*(1-data_5pt_x_W) + data_5pt_V0[-1]*(data_5pt_x_W))\n",
    "print(\"mix\", data_5pt_V0_mix)\n",
    "# absolute values of Calphad unary + DFT_MIX binary\n",
    "#                Calphad V0_Ta * x_TA               +       Calphad V0_W * x_W       +  DFT V0 MIX\n",
    "data_5pt_V0_fix = v0_calphad[\"TA\"]*(1-data_5pt_x_W) + v0_calphad[\"W\"]*(data_5pt_x_W) + data_5pt_V0_mix\n",
    "print(data_5pt_V0_fix)\n",
    "\n",
    "plt.title(\"Ta-W:\\nBinary after fitting\")\n",
    "plt.plot(x_W, func_V0_TA_W(x_TA_W), label=\"Model after binary data fit\")\n",
    "plt.scatter(data_5pt_x_W, data_5pt_V0_fix, label='Binary data')\n",
    "plt.legend()\n",
    "plt.xlabel(\"X(W)\")\n",
    "plt.ylabel(\"V0\")\n",
    "plt.xlim(0, 1)"
   ]
  },
  {
   "cell_type": "markdown",
   "metadata": {},
   "source": [
    "## Mixing"
   ]
  },
  {
   "cell_type": "code",
   "execution_count": 14,
   "metadata": {},
   "outputs": [
    {
     "name": "stdout",
     "output_type": "stream",
     "text": [
      "fitting_step <class '__main__.StepV0'>\n",
      "Adding V0 parameters to BCC_A2 (('TA', 'W'),) -3.71676509082353e-07\n",
      "fitting_step <class '__main__.StepLogVA'>\n",
      "exiting with no data\n"
     ]
    }
   ],
   "source": [
    "molar_volume_fit_desc = ModelFittingDescription(StepV0, StepLogVA)\n",
    "datasets = [\n",
    "    {\n",
    "        \"components\": [\"TA\", \"W\"],\n",
    "        \"phases\": [\"BCC_A2\"],\n",
    "        \"conditions\": {\"P\": 101315, \"T\": 298.15},\n",
    "        \"output\": \"V0_MIX\",\n",
    "        \"solver\": {\"mode\": \"manual\", \"sublattice_site_ratios\": [1], \"sublattice_configurations\": [[[\"TA\", \"W\"]], [[\"TA\", \"W\"]], [[\"TA\", \"W\"]]], \"sublattice_occupancies\": [[[0.75, 0.25]], [[0.5, 0.5]], [[0.25, 0.75]]]},\n",
    "        \"values\": [[[-6.58257874e-08, -1.00257453e-07, -6.37684692e-08]]],\n",
    "        \"reference\": \"VASP (LLNL)\",\n",
    "        \"bibtex\": \"UNPUBLISHED\",\n",
    "        \"comment\": \"Brandon Bocklund DFT calculations. VASP, PBEsol, PAW 400 eV cutoff, 0.2 KSPACING\",\n",
    "        \"tags\": [\"non-equilibrium-thermochemical\", \"LLNL-proprietary\"]\n",
    "    }\n",
    "]\n",
    "dbf = Database(\"lu2005-volumes.tdb\")\n",
    "\n",
    "fit_model_x(molar_volume_fit_desc, datasets, dbf)"
   ]
  },
  {
   "cell_type": "code",
   "execution_count": 15,
   "metadata": {},
   "outputs": [
    {
     "name": "stdout",
     "output_type": "stream",
     "text": [
      "mix [ 0.00000000e+00 -6.58257874e-08 -1.00257453e-07 -6.37684692e-08\n",
      "  0.00000000e+00]\n",
      "[1.07870000e-05 1.04002492e-05 1.00448925e-05 9.76045653e-06\n",
      " 9.50330000e-06]\n"
     ]
    },
    {
     "data": {
      "text/plain": [
       "(0.0, 1.0)"
      ]
     },
     "execution_count": 15,
     "metadata": {},
     "output_type": "execute_result"
    },
    {
     "data": {
      "image/png": "[encoded data removed]",
      "text/plain": [
       "<Figure size 432x288 with 1 Axes>"
      ]
     },
     "metadata": {
      "needs_background": "light"
     },
     "output_type": "display_data"
    }
   ],
   "source": [
    "# important, do not reload the database because we just added a new parameter!\n",
    "mod = Model(dbf, [\"TA\", \"W\"], \"BCC_A2\")\n",
    "\n",
    "x_TA = np.linspace(0, 1, 1001)\n",
    "x_W = 1-x_TA\n",
    "x_TA_W = np.empty((x_TA.shape[-1], 2))\n",
    "x_TA_W[:, 0] = x_TA\n",
    "x_TA_W[:, 1] = x_W\n",
    "func_V0_TA_W = lambdify([v.Y(\"BCC_A2\", 0, \"TA\"), v.Y(\"BCC_A2\", 0, \"W\")], [mod.V0])\n",
    "\n",
    "v0_calphad = {  # these were extracted \"by hand\" from the print output above\n",
    "    \"CR\": 7.0403e-06,\n",
    "    \"FE\": 7.0079e-06,\n",
    "    \"MO\": 9.3461e-06,\n",
    "    \"NB\": 1.0752e-05,\n",
    "    \"TA\": 1.0787e-05,\n",
    "    \"TI\": 1.0592e-05,\n",
    "    \"V\": 8.2481e-06,\n",
    "    \"W\": 9.5033e-06,\n",
    "    \"ZR\": 1.3812e-05,\n",
    "}\n",
    "\n",
    "# raw V0s from DFT\n",
    "data_5pt_x_W = np.asarray([0, 0.25, 0.50, 0.75, 1.0])\n",
    "data_5pt_V0 = np.asarray([1.0648e-05, 1.0287174212562773e-05, 9.957742546823015e-06, 9.699231530816361e-06, 9.468e-06])\n",
    "\n",
    "# fix the reference state to match calphad\n",
    "#                     V0             DFT V0_Ta * x_TA              +      DFT V0_W * x_W\n",
    "# mixing reference state\n",
    "data_5pt_V0_mix = data_5pt_V0 - (data_5pt_V0[0]*(1-data_5pt_x_W) + data_5pt_V0[-1]*(data_5pt_x_W))\n",
    "print(\"mix\", data_5pt_V0_mix)\n",
    "# absolute values of Calphad unary + DFT_MIX binary\n",
    "#                Calphad V0_Ta * x_TA               +       Calphad V0_W * x_W       +  DFT V0 MIX\n",
    "data_5pt_V0_fix = v0_calphad[\"TA\"]*(1-data_5pt_x_W) + v0_calphad[\"W\"]*(data_5pt_x_W) + data_5pt_V0_mix\n",
    "print(data_5pt_V0_fix)\n",
    "\n",
    "plt.title(\"Ta-W:\\nBinary after fitting\")\n",
    "plt.plot(x_W, func_V0_TA_W(x_TA_W), label=\"Model after binary data fit\")\n",
    "plt.scatter(data_5pt_x_W, data_5pt_V0_fix, label='Binary data')\n",
    "plt.legend()\n",
    "plt.xlabel(\"X(W)\")\n",
    "plt.ylabel(\"V0\")\n",
    "plt.xlim(0, 1)"
   ]
  },
  {
   "cell_type": "markdown",
   "metadata": {},
   "source": [
    "# Ternary\n",
    "\n",
    "start with binary fitting"
   ]
  },
  {
   "cell_type": "code",
   "execution_count": 16,
   "metadata": {},
   "outputs": [
    {
     "name": "stdout",
     "output_type": "stream",
     "text": [
      "fitting_step <class '__main__.StepV0'>\n",
      "Adding V0 parameters to BCC_A2 (('TA', 'W'),) -3.71676509082353e-07\n",
      "fitting_step <class '__main__.StepLogVA'>\n",
      "exiting with no data\n"
     ]
    }
   ],
   "source": [
    "molar_volume_fit_desc = ModelFittingDescription(StepV0, StepLogVA)\n",
    "datasets = [\n",
    "    {\n",
    "        \"components\": [\"TA\", \"W\"],\n",
    "        \"phases\": [\"BCC_A2\"],\n",
    "        \"conditions\": {\"P\": 101315, \"T\": 298.15},\n",
    "        \"output\": \"V0_MIX\",\n",
    "        \"solver\": {\"mode\": \"manual\", \"sublattice_site_ratios\": [1], \"sublattice_configurations\": [[[\"TA\", \"W\"]], [[\"TA\", \"W\"]], [[\"TA\", \"W\"]]], \"sublattice_occupancies\": [[[0.75, 0.25]], [[0.5, 0.5]], [[0.25, 0.75]]]},\n",
    "        \"values\": [[[-6.58257874e-08, -1.00257453e-07, -6.37684692e-08]]],\n",
    "        \"reference\": \"VASP (LLNL)\",\n",
    "        \"bibtex\": \"UNPUBLISHED\",\n",
    "        \"comment\": \"Brandon Bocklund DFT calculations. VASP, PBEsol, PAW 400 eV cutoff, 0.2 KSPACING\",\n",
    "        \"tags\": [\"non-equilibrium-thermochemical\", \"LLNL-proprietary\"]\n",
    "    }\n",
    "]\n",
    "dbf = Database(\"lu2005-volumes.tdb\")\n",
    "\n",
    "fit_model_x(molar_volume_fit_desc, datasets, dbf)"
   ]
  },
  {
   "cell_type": "code",
   "execution_count": 17,
   "metadata": {},
   "outputs": [
    {
     "name": "stdout",
     "output_type": "stream",
     "text": [
      "mix [ 0.00000000e+00 -6.58257874e-08 -1.00257453e-07 -6.37684692e-08\n",
      "  0.00000000e+00]\n",
      "[1.07870000e-05 1.04002492e-05 1.00448925e-05 9.76045653e-06\n",
      " 9.50330000e-06]\n"
     ]
    },
    {
     "data": {
      "text/plain": [
       "(0.0, 1.0)"
      ]
     },
     "execution_count": 17,
     "metadata": {},
     "output_type": "execute_result"
    },
    {
     "data": {
      "image/png": "[encoded data removed]",
      "text/plain": [
       "<Figure size 432x288 with 1 Axes>"
      ]
     },
     "metadata": {
      "needs_background": "light"
     },
     "output_type": "display_data"
    }
   ],
   "source": [
    "# important, do not reload the database because we just added a new parameter!\n",
    "mod = Model(dbf, [\"TA\", \"MO\", \"W\"], \"BCC_A2\")\n",
    "\n",
    "x_MO = np.linspace(0, 1, 1001)\n",
    "x_TA = (1 - x_MO) / 2\n",
    "x_W = (1 - x_MO) / 2\n",
    "x_MO_TA_W = np.empty((x_MO.shape[-1], 3))\n",
    "x_MO_TA_W[:, 0] = x_MO\n",
    "x_MO_TA_W[:, 1] = x_TA\n",
    "x_MO_TA_W[:, 2] = x_W\n",
    "func_V0_MO_TA_W = lambdify([v.Y(\"BCC_A2\", 0, \"MO\"), v.Y(\"BCC_A2\", 0, \"TA\"), v.Y(\"BCC_A2\", 0, \"W\")], [mod.V0])\n",
    "\n",
    "v0_calphad = {  # these were extracted \"by hand\" from the print output above\n",
    "    \"CR\": 7.0403e-06,\n",
    "    \"FE\": 7.0079e-06,\n",
    "    \"MO\": 9.3461e-06,\n",
    "    \"NB\": 1.0752e-05,\n",
    "    \"TA\": 1.0787e-05,\n",
    "    \"TI\": 1.0592e-05,\n",
    "    \"V\": 8.2481e-06,\n",
    "    \"W\": 9.5033e-06,\n",
    "    \"ZR\": 1.3812e-05,\n",
    "}\n",
    "\n",
    "# raw V0s from DFT\n",
    "data_5pt_x_W = np.asarray([0, 0.25, 0.50, 0.75, 1.0])\n",
    "data_5pt_V0 = np.asarray([1.0648e-05, 1.0287174212562773e-05, 9.957742546823015e-06, 9.699231530816361e-06, 9.468e-06])\n",
    "\n",
    "# fix the reference state to match calphad\n",
    "#                     V0             DFT V0_Ta * x_TA              +      DFT V0_W * x_W\n",
    "# mixing reference state\n",
    "data_5pt_V0_mix = data_5pt_V0 - (data_5pt_V0[0]*(1-data_5pt_x_W) + data_5pt_V0[-1]*(data_5pt_x_W))\n",
    "print(\"mix\", data_5pt_V0_mix)\n",
    "# absolute values of Calphad unary + DFT_MIX binary\n",
    "#                Calphad V0_Ta * x_TA               +       Calphad V0_W * x_W       +  DFT V0 MIX\n",
    "data_5pt_V0_fix = v0_calphad[\"TA\"]*(1-data_5pt_x_W) + v0_calphad[\"W\"]*(data_5pt_x_W) + data_5pt_V0_mix\n",
    "print(data_5pt_V0_fix)\n",
    "\n",
    "plt.title(\"Mo-Ta-W:\\nTernary fitting demo\")\n",
    "plt.plot(x_MO, func_V0_MO_TA_W(x_MO_TA_W), label=\"Model extrapolation from unary+binary parameters\")\n",
    "plt.scatter(0.333, 0.99e-5, label='Ficticious ternary data')\n",
    "plt.legend(loc=\"upper right\")\n",
    "plt.xlabel(f\"X(MO)\\nTa50W50{'':>95}Mo\")\n",
    "plt.ylabel(\"V0\")\n",
    "plt.xlim(0, 1)"
   ]
  },
  {
   "cell_type": "markdown",
   "metadata": {},
   "source": [
    "## Fit"
   ]
  },
  {
   "cell_type": "code",
   "execution_count": 18,
   "metadata": {},
   "outputs": [
    {
     "name": "stdout",
     "output_type": "stream",
     "text": [
      "Model components (for verification): [Species('MO', 'MO1'), Species('TA', 'TA1'), Species('W', 'W1')]\n"
     ]
    }
   ],
   "source": [
    "molar_volume_fit_desc = ModelFittingDescription(StepV0, StepLogVA)\n",
    "datasets = [\n",
    "    {\n",
    "        \"components\": [\"MO\", \"TA\", \"W\"],\n",
    "        \"phases\": [\"BCC_A2\"],\n",
    "        \"conditions\": {\"P\": 101315, \"T\": 298.15},\n",
    "        \"output\": \"V0\",\n",
    "        \"solver\": {\"mode\": \"manual\", \"sublattice_site_ratios\": [1], \"sublattice_configurations\": [[[\"MO\", \"TA\", \"W\"]]], \"sublattice_occupancies\": [[[0.333333, 0.333333, 0.333333]]]},\n",
    "        \"values\": [[[0.99e-5]]],  # ficitious value\n",
    "        \"reference\": \"VASP (LLNL)\",\n",
    "        \"bibtex\": \"UNPUBLISHED\",\n",
    "        \"comment\": \"Brandon Bocklund DFT calculations. VASP, PBEsol, PAW 400 eV cutoff, 0.2 KSPACING\",\n",
    "        \"tags\": [\"non-equilibrium-thermochemical\", \"LLNL-proprietary\"]\n",
    "    }\n",
    "]\n",
    "mod = Model(dbf, [\"MO\", \"TA\", \"W\"], \"BCC_A2\")\n",
    "\n",
    "print(f\"Model components (for verification): {mod.components}\")"
   ]
  },
  {
   "cell_type": "code",
   "execution_count": 19,
   "metadata": {},
   "outputs": [
    {
     "name": "stdout",
     "output_type": "stream",
     "text": [
      "fitting_step <class '__main__.StepV0'>\n",
      "Adding V0 parameters to BCC_A2 (('MO', 'TA', 'W'),) 1.69138740387224e-06\n",
      "fitting_step <class '__main__.StepLogVA'>\n",
      "exiting with no data\n"
     ]
    }
   ],
   "source": [
    "fit_model_x(molar_volume_fit_desc, datasets, dbf)"
   ]
  },
  {
   "cell_type": "code",
   "execution_count": 20,
   "metadata": {},
   "outputs": [
    {
     "name": "stdout",
     "output_type": "stream",
     "text": [
      "mix [ 0.00000000e+00 -6.58257874e-08 -1.00257453e-07 -6.37684692e-08\n",
      "  0.00000000e+00]\n",
      "[1.07870000e-05 1.04002492e-05 1.00448925e-05 9.76045653e-06\n",
      " 9.50330000e-06]\n"
     ]
    },
    {
     "data": {
      "text/plain": [
       "(0.0, 1.0)"
      ]
     },
     "execution_count": 20,
     "metadata": {},
     "output_type": "execute_result"
    },
    {
     "data": {
      "image/png": "[encoded data removed]",
      "text/plain": [
       "<Figure size 432x288 with 1 Axes>"
      ]
     },
     "metadata": {
      "needs_background": "light"
     },
     "output_type": "display_data"
    }
   ],
   "source": [
    "# important, do not reload the database because we just added a new parameter!\n",
    "mod = Model(dbf, [\"TA\", \"MO\", \"W\"], \"BCC_A2\")\n",
    "\n",
    "x_MO = np.linspace(0, 1, 1001)\n",
    "x_TA = (1 - x_MO) / 2\n",
    "x_W = (1 - x_MO) / 2\n",
    "x_MO_TA_W = np.empty((x_MO.shape[-1], 3))\n",
    "x_MO_TA_W[:, 0] = x_MO\n",
    "x_MO_TA_W[:, 1] = x_TA\n",
    "x_MO_TA_W[:, 2] = x_W\n",
    "func_V0_MO_TA_W = lambdify([v.Y(\"BCC_A2\", 0, \"MO\"), v.Y(\"BCC_A2\", 0, \"TA\"), v.Y(\"BCC_A2\", 0, \"W\")], [mod.V0])\n",
    "\n",
    "v0_calphad = {  # these were extracted \"by hand\" from the print output above\n",
    "    \"CR\": 7.0403e-06,\n",
    "    \"FE\": 7.0079e-06,\n",
    "    \"MO\": 9.3461e-06,\n",
    "    \"NB\": 1.0752e-05,\n",
    "    \"TA\": 1.0787e-05,\n",
    "    \"TI\": 1.0592e-05,\n",
    "    \"V\": 8.2481e-06,\n",
    "    \"W\": 9.5033e-06,\n",
    "    \"ZR\": 1.3812e-05,\n",
    "}\n",
    "\n",
    "# raw V0s from DFT\n",
    "data_5pt_x_W = np.asarray([0, 0.25, 0.50, 0.75, 1.0])\n",
    "data_5pt_V0 = np.asarray([1.0648e-05, 1.0287174212562773e-05, 9.957742546823015e-06, 9.699231530816361e-06, 9.468e-06])\n",
    "\n",
    "# fix the reference state to match calphad\n",
    "#                     V0             DFT V0_Ta * x_TA              +      DFT V0_W * x_W\n",
    "# mixing reference state\n",
    "data_5pt_V0_mix = data_5pt_V0 - (data_5pt_V0[0]*(1-data_5pt_x_W) + data_5pt_V0[-1]*(data_5pt_x_W))\n",
    "print(\"mix\", data_5pt_V0_mix)\n",
    "# absolute values of Calphad unary + DFT_MIX binary\n",
    "#                Calphad V0_Ta * x_TA               +       Calphad V0_W * x_W       +  DFT V0 MIX\n",
    "data_5pt_V0_fix = v0_calphad[\"TA\"]*(1-data_5pt_x_W) + v0_calphad[\"W\"]*(data_5pt_x_W) + data_5pt_V0_mix\n",
    "print(data_5pt_V0_fix)\n",
    "\n",
    "plt.title(\"Mo-Ta-W:\\nTernary fitting demo\")\n",
    "plt.plot(x_MO, func_V0_MO_TA_W(x_MO_TA_W), label=\"Model after ternary data fit\")\n",
    "plt.scatter(0.333, 0.99e-5, label='Ficticious ternary data')\n",
    "plt.legend(loc=\"upper right\")\n",
    "plt.xlabel(f\"X(MO)\\nTa50W50{'':>95}Mo\")\n",
    "plt.ylabel(\"V0\")\n",
    "plt.xlim(0, 1)"
   ]
  },
  {
   "cell_type": "code",
   "execution_count": null,
   "metadata": {},
   "outputs": [],
   "source": []
  }
 ],
 "metadata": {
  "kernelspec": {
   "display_name": "calphad-dev",
   "language": "python",
   "name": "python3"
  },
  "language_info": {
   "codemirror_mode": {
    "name": "ipython",
    "version": 3
   },
   "file_extension": ".py",
   "mimetype": "text/x-python",
   "name": "python",
   "nbconvert_exporter": "python",
   "pygments_lexer": "ipython3",
   "version": "3.9.13"
  },
  "orig_nbformat": 4
 },
 "nbformat": 4,
 "nbformat_minor": 2
}
